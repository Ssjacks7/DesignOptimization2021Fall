{
 "cells": [
  {
   "cell_type": "markdown",
   "id": "a9645be8",
   "metadata": {},
   "source": [
    "# Sam Jackson, MAE 494, HW4\n",
    "\n",
    "This code provides answers to the questions posed in Homework 4. The packages used in this homework assignment are numpy, and scipy.optimize."
   ]
  },
  {
   "cell_type": "code",
   "execution_count": 2,
   "id": "f5e07e2b",
   "metadata": {},
   "outputs": [],
   "source": [
    "import numpy as np\n",
    "import matplotlib.pyplot as plt\n",
    "from scipy.optimize import minimize"
   ]
  },
  {
   "cell_type": "markdown",
   "id": "8700c353",
   "metadata": {},
   "source": [
    "## Problem 1\n",
    "To solve the problem graphically, I have drawn out the problem on a physical notebook and uploaded it below...\n",
    "![MAE494HW4P_1](img/HW494HWP_1.jpg)"
   ]
  },
  {
   "cell_type": "code",
   "execution_count": 3,
   "id": "7e18cccc",
   "metadata": {},
   "outputs": [
    {
     "name": "stderr",
     "output_type": "stream",
     "text": [
      "'[MAE494HW4P_1]' is not recognized as an internal or external command,\n",
      "operable program or batch file.\n"
     ]
    }
   ],
   "source": [
    "![MAE494HW4P_1](img/HW494HWP_1.jpg)"
   ]
  },
  {
   "cell_type": "code",
   "execution_count": null,
   "id": "85cc17f6",
   "metadata": {},
   "outputs": [],
   "source": []
  }
 ],
 "metadata": {
  "kernelspec": {
   "display_name": "Python 3",
   "language": "python",
   "name": "python3"
  },
  "language_info": {
   "codemirror_mode": {
    "name": "ipython",
    "version": 3
   },
   "file_extension": ".py",
   "mimetype": "text/x-python",
   "name": "python",
   "nbconvert_exporter": "python",
   "pygments_lexer": "ipython3",
   "version": "3.8.8"
  }
 },
 "nbformat": 4,
 "nbformat_minor": 5
}
