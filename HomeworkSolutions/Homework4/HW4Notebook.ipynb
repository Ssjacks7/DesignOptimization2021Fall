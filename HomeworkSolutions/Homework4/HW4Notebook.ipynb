{
 "cells": [
  {
   "cell_type": "markdown",
   "id": "a9645be8",
   "metadata": {},
   "source": [
    "# Sam Jackson, MAE 494, HW4\n",
    "\n",
    "This code provides answers to the questions posed in Homework 4. The packages used in this homework assignment are numpy, and scipy.optimize."
   ]
  },
  {
   "cell_type": "code",
   "execution_count": 2,
   "id": "f5e07e2b",
   "metadata": {},
   "outputs": [],
   "source": [
    "import numpy as np\n",
    "import matplotlib.pyplot as plt\n",
    "from scipy.optimize import minimize"
   ]
  },
  {
   "cell_type": "markdown",
   "id": "8700c353",
   "metadata": {},
   "source": [
    "## Problem 1\n",
    "To solve the problem graphically, as well as show the feasible descent directions and directions of $\\frac{\\partial f}{\\partial x}$ and $\\frac{\\partial g}{\\partial x}s $ at the corner points, I have drawn out the problem on a physical notebook and uploaded it in the following 2 images below...\n",
    "\n",
    "![MAE494HW4Pa](img/MAE494HW4Pa.jpg)\n",
    "\n",
    "![MAE494HW4Pb](img/MAE494HW4Pb.jpg)\n",
    "\n",
    "To verify this graphical result the KKT conditions were used, as shown below...\n",
    "\n",
    "First the Lagrangian function, $L(x,\\lambda,\\mu)$, was created for our specific case.\n",
    "\n",
    "$L = (x_1 +1)^2+(x_2-2)^2+\\mu_1(x_1-2)+\\mu_2(x_2-1)+\\mu_3(-x_1)+\\mu_4(-x_2)$\n",
    "\n",
    "Then taking the derivative of this function with respect to $x$.\n",
    "\n",
    "$\\frac{\\partial L}{\\partial x}=\\left[ \\begin{array}{c} \\frac{\\partial L}{\\partial x_1} \\\\ \\frac{\\partial L}{\\partial x_2} \\end{array} \\right]=\\left[ \\begin{array}{c} 2(x_1+1)+\\mu_1-\\mu_3 \\\\ 2(x_2-2)+\\mu_2-\\mu_4 \\end{array} \\right]$ \n",
    "\n",
    "Then plugging in information gathered from the graphical solution to verify that it is correct. Thus, we expect that since $g_2$ and $g_3$ are the only active constraints at the found solution of $x=[0,1]^T$, $\\mu_2 \\gt 0$ and $\\mu_3 \\gt 0$ while $\\mu_1=\\mu_4=0$. Verifying this by checking this specific case...\n",
    "\n",
    "$\\frac{\\partial L}{\\partial x}=\\left[ \\begin{array}{c} 2(x_1+1)+\\mu_1-\\mu_3 \\\\ 2(x_2-2)+\\mu_2-\\mu_4 \\end{array} \\right]=\\left[ \\begin{array}{c} 2((0)+1)+(0)-\\mu_3 \\\\ 2((1)-2)+\\mu_2-(0) \\end{array} \\right]=\\left[ \\begin{array}{c} 2-\\mu_3 \\\\ -2+\\mu_2 \\end{array} \\right]=\\left[ \\begin{array}{c} 0 \\\\ 0 \\end{array} \\right]$ \n",
    "\n",
    "Thus we can see that our expectations are confirmed that this is the constrained optimum case, as... \n",
    "\n",
    "$\\left[ \\begin{array}{c} \\mu_3 \\\\ \\mu_2 \\end{array} \\right]=\\left[ \\begin{array}{c} 2 \\\\ 2 \\end{array} \\right] \\gt \\left[ \\begin{array}{c} 0 \\\\ 0 \\end{array} \\right]$ \n",
    "\n",
    "We can also verify that this problem is strictly convex by taking the Hessian of the Lagrangian function and proving it is positive definite, as shown below...\n",
    "\n",
    "$\\frac{\\partial^2 L}{\\partial x^2}=\\left[ \\begin{array}{cc} \\frac{\\partial^2 L}{\\partial x_1^2} & \\frac{\\partial^2 L}{\\partial x_1 \\partial x_2}\\\\ \\frac{\\partial^2 L}{\\partial x_1 \\partial x_2} & \\frac{\\partial^2 L}{\\partial x_2^2} \\end{array} \\right]=\\left[ \\begin{array}{cc} 2 & 0\\\\ 0 & 2\\end{array} \\right] \\Rightarrow \\lambda = 2 > 0 \\therefore \\frac{\\partial^2 L}{\\partial x^2}$ is positive definite. "
   ]
  },
  {
   "cell_type": "markdown",
   "id": "cd66aed5",
   "metadata": {},
   "source": [
    "## Problem 2\n",
    "TBC"
   ]
  },
  {
   "cell_type": "code",
   "execution_count": null,
   "id": "85cc17f6",
   "metadata": {},
   "outputs": [],
   "source": []
  }
 ],
 "metadata": {
  "kernelspec": {
   "display_name": "Python 3",
   "language": "python",
   "name": "python3"
  },
  "language_info": {
   "codemirror_mode": {
    "name": "ipython",
    "version": 3
   },
   "file_extension": ".py",
   "mimetype": "text/x-python",
   "name": "python",
   "nbconvert_exporter": "python",
   "pygments_lexer": "ipython3",
   "version": "3.8.8"
  }
 },
 "nbformat": 4,
 "nbformat_minor": 5
}
