{
 "cells": [
  {
   "cell_type": "markdown",
   "id": "2f9ef47e",
   "metadata": {},
   "source": [
    "# Sam Jackson, MAE 494, HW4\n",
    "\n",
    "This code provides answers to the questions posed in Homework 4. The packages used in this homework assignment are numpy, and scipy.optimize."
   ]
  },
  {
   "cell_type": "code",
   "execution_count": 2,
   "id": "17e7c8b3",
   "metadata": {},
   "outputs": [],
   "source": [
    "import numpy as np\n",
    "import matplotlib.pyplot as plt\n",
    "from scipy.optimize import minimize"
   ]
  },
  {
   "cell_type": "markdown",
   "id": "5bcea9e6",
   "metadata": {},
   "source": [
    "a"
   ]
  },
  {
   "cell_type": "code",
   "execution_count": null,
   "id": "a459fc0d",
   "metadata": {},
   "outputs": [],
   "source": []
  }
 ],
 "metadata": {
  "kernelspec": {
   "display_name": "Python 3",
   "language": "python",
   "name": "python3"
  },
  "language_info": {
   "codemirror_mode": {
    "name": "ipython",
    "version": 3
   },
   "file_extension": ".py",
   "mimetype": "text/x-python",
   "name": "python",
   "nbconvert_exporter": "python",
   "pygments_lexer": "ipython3",
   "version": "3.8.8"
  }
 },
 "nbformat": 4,
 "nbformat_minor": 5
}
