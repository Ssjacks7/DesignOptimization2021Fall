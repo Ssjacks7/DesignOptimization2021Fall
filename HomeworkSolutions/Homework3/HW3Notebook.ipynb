{
 "cells": [
  {
   "cell_type": "markdown",
   "id": "ab927693",
   "metadata": {},
   "source": [
    "# Sam Jackson, MAE 494, HW3\n",
    "\n",
    "This code provides answers to the questions posed in Homework 3. The packages used in this homework assignment are numpy, matplotlib.pyplot,scipy.optimize, and pytorch."
   ]
  },
  {
   "cell_type": "code",
   "execution_count": 1,
   "id": "c4ba963e",
   "metadata": {},
   "outputs": [],
   "source": [
    "import numpy as np\n",
    "import matplotlib.pyplot as plt\n",
    "from scipy.optimize import minimize\n",
    "import torch as t\n",
    "from torch.autograd import Variable\n",
    "import math"
   ]
  },
  {
   "cell_type": "markdown",
   "id": "3ab47506",
   "metadata": {},
   "source": [
    "## Problem 1\n",
    "### 1.\n",
    "First, formulating the problem as a least square problem to find $A_{12}$ and $A_{21}$. This is done by simply minimizing the sum of the squared difference between the measured pressures and the pressures calculated from the equilibrium equation for each value of $x_1$. Note:This a constrained problem due to the fact that $x_1$ and $x_2$ are related by being binary.\n",
    "\n",
    "$$\\begin{aligned} &\\text{minimize:}_{A_{12},A_{21}} &&\\sum^n_{i=1} [p_i - (x_{1i}exp(A_{12}(\\frac{A_{21}x_{2i}}{A_{12}x_{1i}+A_{21}x_{2i}})^2)p^{sat}_{water}+x_{2i}exp(A_{21}(\\frac{A_{12}x_{1i}}{A_{12}x_{1i}+A_{21}x_{2i}})^2)p^{sat}_{4,1dioxane})]^2 \\\\ &\\text{subject to:} && x_1+x_2=1 \\end{aligned}$$\n",
    "\n",
    "Combining this to be a single unconstrained minimization problem that we can solve...\n",
    "\n",
    "$$\\begin{aligned} &\\text{minimize:}_{A_{12},A_{21}} &&\\sum^n_{i=1} [p_i - (x_{1i}exp(A_{12}(\\frac{A_{21}(1-x_{1i})}{A_{12}x_{1i}+A_{21}(1-x_{1i})})^2)p^{sat}_{water}+(1-x_{1i})exp(A_{21}(\\frac{A_{12}x_{1i}}{A_{12}x_{1i}+A_{21}(1-x_{1i})})^2)p^{sat}_{4,1dioxane})]^2 \\end{aligned}$$\n",
    "\n",
    "where $p^{sat}_{water}$ and $p^{sat}_{4,1dioxane}$ are constants that can be determined using given data and the Antoine equation.\n",
    "\n",
    "To make the problem easier to be implemented in code, the summation function can instead be represented via matrix multiplication, for example if a is a nx1 matrix $a^2=a^Ta$ results in a 1x1 value which is the summation of $a_i^2$ for each value in $a$. Keeping in mind that $x_1$ and $p$ are nx1 matrices (in this case 11x1) as well as being the only matrices in the equation, we can modify the unconstrained problem the summation function into matrix multiplication as such...\n",
    "\n",
    "$$\\begin{aligned} &\\text{minimize:}_{A_{12},A_{21}} &&[p - (x_1exp(A_{12}(\\frac{A_{21}(1-x_1)}{A_{12}x_1+A_{21}(1-x_1)})^2)p^{sat}_{water}+(1-x_1)exp(A_{21}(\\frac{A_{12}x_1}{A_{12}x_1+A_{21}(1-x_1)})^2)p^{sat}_{4,1dioxane})]^T\\end{aligned}*[p - (x_1exp(A_{12}(\\frac{A_{21}(1-x_1)}{A_{12}x_1+A_{21}(1-x_1)})^2)p^{sat}_{water}+(1-x_1)exp(A_{21}(\\frac{A_{12}x_1}{A_{12}x_1+A_{21}(1-x_1)})^2)p^{sat}_{4,1dioxane})]$$\n",
    "\n",
    "Though this form is less amenable to being written out it is equivalent to the form shown above, and more easily put into code, as such this form will be used when finding the solution shown below."
   ]
  },
  {
   "cell_type": "markdown",
   "id": "5c542766",
   "metadata": {},
   "source": [
    "### 2.\n",
    "\n",
    "Start with establishing the data given in the problem statement in code. This includes the measured data relating $x_1$ and $p$ and the data to acquire $p^{sat}_{water}$ and $p^{sat}_{1,4 dioxane}$ from the Antoine equation at $T=20^oC$"
   ]
  },
  {
   "cell_type": "code",
   "execution_count": 2,
   "id": "7bacf40f",
   "metadata": {},
   "outputs": [
    {
     "name": "stdout",
     "output_type": "stream",
     "text": [
      "Saturation pressure of T=20C water = 17.473251342773438 mmHg\n",
      "Saturation pressure of T=20C 1,4 dioxane = 28.824098587036133 mmHg\n"
     ]
    }
   ],
   "source": [
    "# Measurement data for x1 and p\n",
    "x1 = Variable(t.tensor([0.0,0.1,0.2,0.3,0.4,0.5,0.6,0.7,0.8,0.9,1.0]), requires_grad=False)\n",
    "pm = Variable(t.tensor([28.1,34.4,36.7,36.9,36.8,36.7,36.5,35.4,32.9,27.7,17.5]), requires_grad=False)\n",
    "\n",
    "# Saturation pressure data\n",
    "T = 20 #degC\n",
    "awater=[8.07131, 1730.63, 233.426]\n",
    "a14dioxane=[7.43155, 1554.679, 240.337]\n",
    "\n",
    "# Calculating saturation pressures for water and 1,4 dioxane\n",
    "\n",
    "psatwater= Variable(t.tensor(10**(awater[0]-(awater[1]/(T+awater[2])))), requires_grad=False)\n",
    "psat14dioxane=Variable(t.tensor(10**(a14dioxane[0]-(a14dioxane[1]/(T+a14dioxane[2])))), requires_grad=False)\n",
    "print('Saturation pressure of T=20C water =', psatwater.item(), 'mmHg')\n",
    "print('Saturation pressure of T=20C 1,4 dioxane =', psat14dioxane.item(), 'mmHg')"
   ]
  },
  {
   "cell_type": "markdown",
   "id": "35c9cf93",
   "metadata": {},
   "source": [
    "Before the minimize problem can be solved using either gradient descent or Newton's method, the gradient of the minimized function with respect to $A_{12}$ and $A_{21}$. This could be done by taking the derivative of the function, as we have done it in previous homeworks, or it could be done using the new method introduced in class by using PyTorch. I have chosen to solve the problem using a gradient descent method with the novel PyTorch way of finding the gradient, as shown below..."
   ]
  },
  {
   "cell_type": "code",
   "execution_count": 3,
   "id": "75356d40",
   "metadata": {},
   "outputs": [
    {
     "name": "stdout",
     "output_type": "stream",
     "text": [
      "Optimized Value of A_12 = 1.9578605\n",
      "Optimized Value of A_21 = 1.6896445\n",
      "Final Value of loss function = 0.67023647\n"
     ]
    }
   ],
   "source": [
    "# Gradient descent with line search using PyTorch\n",
    "eps = 1e-1 # Termination criteria\n",
    "A = Variable(t.tensor([10.0, 5.0]), requires_grad=True) # Defining A's, A[0]=A_12, A[1]=A_21\n",
    "\n",
    "# Defining loss function as the square sum of the equilibrium relation like defined in 1.\n",
    "obj = lambda A, x1, psatwater, psat14dioxane:\\\n",
    "        t.dot((pm-(x1*psatwater*t.exp((A[0]*(A[1]*(1-x1))**2/((A[0]*x1+A[1]*(1-x1))**2)))\\\n",
    "        + (1-x1)*psat14dioxane*t.exp((A[1]*((A[0]*x1)**2)/((A[0]*x1+A[1]*(1-x1))**2))))),\\\n",
    "        (pm-(x1*psatwater*t.exp((A[0]*(A[1]*(1-x1))**2/((A[0]*x1+A[1]*(1-x1))**2)))\\\n",
    "        + (1-x1)*psat14dioxane*t.exp((A[1]*((A[0]*x1)**2)/((A[0]*x1+A[1]*(1-x1))**2))))))\n",
    "\n",
    "# Armijo line search\n",
    "def line_search(A,x1,psatwater,psatdioxane):\n",
    "    a = 1.  # initialize step size\n",
    "    phi = lambda a, A, x1, psatwater, psat14dioxane: obj(A,x1,psatwater,psat14dioxane) - a * 0.8 * A.grad @ A.grad.transpose(0,0)  # define phi as a search criterion\n",
    "    while phi(a,A,x1,psatwater,psat14dioxane) < obj((A - a * A.grad),x1,psatwater,psat14dioxane):  # if f(x+a*d)>phi(a) then backtrack. d is the search direction\n",
    "        a = 0.5 * a\n",
    "    return a\n",
    "\n",
    "error = 1 # Setting error initially higher than the cutoff\n",
    "\n",
    "\n",
    "while error >= eps:  # Gradient descent process loops until the gradient is less than the termination criteria\n",
    "    \n",
    "    # Defining loss function as the square sum of the equilibrium relation like defined in 1.\n",
    "    loss = obj(A,x1,psatwater,psat14dioxane)\n",
    "    loss.backward() # Calculating gradient of loss function w.r.t. A\n",
    "    error = A.grad.norm() # Setting error equal to the norm of the gradient\n",
    "    # no_grad() specifies that the operations within this context are not part of the computational graph, i.e., we don't need the gradient descent algorithm itself to be differentiable with respect to A\n",
    "    with t.no_grad():\n",
    "        a = line_search(A,x1,psatwater,psat14dioxane) # Perform line search to ensure step size isn't too large\n",
    "        A -= a*A.grad # Descending the gradient\n",
    "        \n",
    "        # need to clear the gradient at every step, or otherwise it will accumulate...\n",
    "        A.grad.zero_()\n",
    "        \n",
    "# Printing out results of gradient descent\n",
    "print('Optimized Value of A_12 =',A[0].data.numpy())\n",
    "print('Optimized Value of A_21 =',A[1].data.numpy())\n",
    "print('Final Value of loss function =',loss.data.numpy())"
   ]
  },
  {
   "cell_type": "markdown",
   "id": "270207bc",
   "metadata": {},
   "source": [
    "### 3.\n",
    "To compare our solution with the data, let's calculate what the model predicts the values of $p$ will be for each value of $x_1$, then subtract the predicted values from the measured values."
   ]
  },
  {
   "cell_type": "code",
   "execution_count": 4,
   "id": "bd50fb34",
   "metadata": {},
   "outputs": [
    {
     "name": "stdout",
     "output_type": "stream",
     "text": [
      "Measured values of p = [28.1 34.4 36.7 36.9 36.8 36.7 36.5 35.4 32.9 27.7 17.5]\n",
      "Predicted values of p = [28.824099 34.641922 36.451233 36.866104 36.87291  36.748795 36.389854\n",
      " 35.38533  32.949886 27.733051 17.473251]\n",
      "Difference in predicted and measured values of p = [-0.7240982  -0.24192047  0.24876785  0.0338974  -0.07291031 -0.04879379\n",
      "  0.11014557  0.01467133 -0.0498848  -0.03305054  0.02674866]\n"
     ]
    }
   ],
   "source": [
    "# First calculating the predicted values of p for each x1\n",
    "#for i in range(10):\n",
    "#    predictionp = (x1[i]*psatwater*t.exp((A[0]*(A[1]**2)*(1-x1[i])*(1-x1[i]))/((A[0]*x1[i]+A[1]*(1-x1[i]))*(A[0]*x1[i]+A[1]*(1-x1[i]))))\\\n",
    "#        + (1-x1[i])*psat14dioxane*t.exp((A[1]*(A[0]**2)*(x1[i]*x1[i]))/((A[0]*x1[i]+A[1]*(1-x1[i]))*(A[0]*x1[i]+A[1]*(1-x1[i])))))\n",
    "predictionp = (x1*psatwater*t.exp((A[0]*(A[1]*(1-x1))**2/((A[0]*x1+A[1]*(1-x1))**2)))\\\n",
    "        + (1-x1)*psat14dioxane*t.exp((A[1]*((A[0]*x1)**2)/((A[0]*x1+A[1]*(1-x1))**2))))\n",
    "print('Measured values of p =',pm.data.numpy())\n",
    "print('Predicted values of p =',predictionp.data.numpy())\n",
    "\n",
    "#Then subtracting the predicted values of p from the measured values of p to see the difference.\n",
    "print('Difference in predicted and measured values of p =', (pm-predictionp).data.numpy())"
   ]
  },
  {
   "cell_type": "markdown",
   "id": "c7d6c061",
   "metadata": {},
   "source": [
    "As we can see, there is a little difference from the predicted and measured values. This could have been guessed from looking at the final value of the loss function in section 2., as it had a fairly small value of ~0.67 while the magnitude of the gradient had reduced to a near zero value, indicating that this was the local minimum. This slight discrepancy in the predicted and measured values likely comes from either error in the used measurements of p or the a values to calculate $p^{sat}_{water}$ and $p^{sat}_{1,4 dioxane}$, or from the fact that a relatively high termination criteria was chosen of $eps=1e^{-1}$. Regardless, the values of $A_{12}$ and $A_{21}$ found above are very close to the best values to fit the measured data, and they fit the data quite well."
   ]
  },
  {
   "cell_type": "markdown",
   "id": "6122a3b9",
   "metadata": {},
   "source": [
    "## Problem 2\n",
    "\n",
    "To minimize the following function using Bayesian optimization, "
   ]
  },
  {
   "cell_type": "code",
   "execution_count": null,
   "id": "f958e8e3",
   "metadata": {},
   "outputs": [],
   "source": []
  }
 ],
 "metadata": {
  "kernelspec": {
   "display_name": "Python 3",
   "language": "python",
   "name": "python3"
  },
  "language_info": {
   "codemirror_mode": {
    "name": "ipython",
    "version": 3
   },
   "file_extension": ".py",
   "mimetype": "text/x-python",
   "name": "python",
   "nbconvert_exporter": "python",
   "pygments_lexer": "ipython3",
   "version": "3.8.8"
  }
 },
 "nbformat": 4,
 "nbformat_minor": 5
}
