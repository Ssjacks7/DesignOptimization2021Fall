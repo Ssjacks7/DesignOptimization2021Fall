{
 "cells": [
  {
   "cell_type": "markdown",
   "id": "0b7d4c1a",
   "metadata": {},
   "source": [
    "# Sam Jackson, MAE 494, Homework 5\n",
    "\n",
    "This code provides answers to the question posed in Homework 5. The packages used in this homework assignment are numpy, matplotlib.pyplot and scipy.optimize."
   ]
  },
  {
   "cell_type": "code",
   "execution_count": 1,
   "id": "6529ed2f",
   "metadata": {},
   "outputs": [],
   "source": [
    "import numpy as np\n",
    "import matplotlib.pyplot as plt\n",
    "from scipy.optimize import minimize"
   ]
  },
  {
   "cell_type": "markdown",
   "id": "5d949972",
   "metadata": {},
   "source": [
    "Implement an SQP algorithm with line search to solve this problem, starting form $x_0=(1,1)^T$. Incorporate the QP subproblem. Use BFGS approximation for the Hessian of the Lagrangian. Use the merit function and Armijo Line Search to find the step size.\n",
    "\n",
    "$$\\begin{aligned} &\\text{min:} && f = x_1^2+(x_2-3)^2 \\\\ &\\text{s.t.} && g_1 = x_2^2-2x_1 \\le 0 \\\\ &&& g_2 = (x_2-1)^2 + 5x_1-15 \\le 0 \\end{aligned}$$"
   ]
  },
  {
   "cell_type": "code",
   "execution_count": 16,
   "id": "ee02dd70",
   "metadata": {},
   "outputs": [
    {
     "name": "stdout",
     "output_type": "stream",
     "text": [
      "[ 2 -4]\n"
     ]
    }
   ],
   "source": [
    "# Setting the convergence criteria, eps\n",
    "eps = 1e-3\n",
    "\n",
    "# Setting the initial guesses for x,mu,W\n",
    "x0 = [1,1] # Given in problem statement\n",
    "\n",
    "mu0 = [0,0] # Because no inequality constraints are violated\n",
    "\n",
    "W = np.identity(np.size(x0)) # Using identity matrix as initial guess\n",
    "\n",
    "k=0 # Establishing that this is iteration 0\n",
    "\n",
    "# Establishing the function calls relevant to the code.\n",
    "\n",
    "f = lambda x:\\\n",
    "    np.power(x[0],2) + np.power(x[1]-3,2)\n",
    "\n",
    "g = lambda x:\\\n",
    "    np.array([[np.power(x[1],2)-2*x[0]],[np.power(x[1]-1,2)+5*x[0]-15]])\n",
    "\n",
    "L = lambda x, mu:\\\n",
    "    f(x)+mu[0]*g1(x)+mu[1]*g2(x)\n",
    "\n",
    "fx = lambda x:\\\n",
    "    np.array([2*x[0],2*(x[1]-3)])\n",
    "\n",
    "gx = lambda x:\\\n",
    "    np.array([[-2,2*x[1]],[5,2*(x[1]-1)]])\n",
    "\n",
    "Lx = lambda x, mu:\\\n",
    "    fx(x)+mu[0]*gx(x)[0,:]+mu[1]*gx(x)[1,:]\n",
    "\n",
    "# Solve QP subproblem\n",
    "\n",
    "# Line search\n",
    "\n",
    "# x(k) = x(k-1) + a*s\n",
    "\n",
    "# BFGS\n",
    "\n",
    "# k=k+1\n",
    "\n",
    "# If KKT condition not satisfied, return to QP subproblem\n",
    "\n",
    "ab=Lx(x0,mu0)\n",
    "print(ab)"
   ]
  },
  {
   "cell_type": "code",
   "execution_count": null,
   "id": "37f0a4a6",
   "metadata": {},
   "outputs": [],
   "source": []
  }
 ],
 "metadata": {
  "kernelspec": {
   "display_name": "Python 3",
   "language": "python",
   "name": "python3"
  },
  "language_info": {
   "codemirror_mode": {
    "name": "ipython",
    "version": 3
   },
   "file_extension": ".py",
   "mimetype": "text/x-python",
   "name": "python",
   "nbconvert_exporter": "python",
   "pygments_lexer": "ipython3",
   "version": "3.8.8"
  }
 },
 "nbformat": 4,
 "nbformat_minor": 5
}
