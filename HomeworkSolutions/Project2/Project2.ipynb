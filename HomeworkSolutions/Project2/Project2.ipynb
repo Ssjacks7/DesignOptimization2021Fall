{
 "cells": [
  {
   "cell_type": "markdown",
   "id": "c537f311",
   "metadata": {},
   "source": [
    "# Sam Jackson, MAE 494, Project 2\n",
    "\n",
    "This notebook provides answers to the topology optimization problem posed in Project 2. The majority of the work done in this Project was done in ANSYS, and thus this notebook is mostly a documentation of the design optimization process that was undertaken there."
   ]
  },
  {
   "cell_type": "markdown",
   "id": "1893f4fa",
   "metadata": {},
   "source": [
    "a"
   ]
  },
  {
   "cell_type": "code",
   "execution_count": null,
   "id": "1d9a822b",
   "metadata": {},
   "outputs": [],
   "source": []
  }
 ],
 "metadata": {
  "kernelspec": {
   "display_name": "Python 3",
   "language": "python",
   "name": "python3"
  },
  "language_info": {
   "codemirror_mode": {
    "name": "ipython",
    "version": 3
   },
   "file_extension": ".py",
   "mimetype": "text/x-python",
   "name": "python",
   "nbconvert_exporter": "python",
   "pygments_lexer": "ipython3",
   "version": "3.8.8"
  }
 },
 "nbformat": 4,
 "nbformat_minor": 5
}
