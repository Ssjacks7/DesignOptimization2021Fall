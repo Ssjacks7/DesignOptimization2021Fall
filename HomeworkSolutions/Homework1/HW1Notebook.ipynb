{
 "cells": [
  {
   "cell_type": "markdown",
   "id": "2e628ef4",
   "metadata": {},
   "source": [
    "# Sam Jackson, MAE 494, HW1\n",
    "\n",
    "This code minimizes the given function when bound by the given constraints\n",
    "(See Homework 1) using a variety of different initial conditions. The results\n",
    "of the minimized functions are then displayed and the results are compared."
   ]
  },
  {
   "cell_type": "code",
   "execution_count": 1,
   "id": "1d461d46",
   "metadata": {},
   "outputs": [
    {
     "name": "stdout",
     "output_type": "stream",
     "text": [
      "Minimize results with all initial guesses =  1  : [-0.558195    0.186065    1.09305913 -0.72092913  0.186065  ]\n",
      "Minimize results with all initial guesses = -1  : [-0.55814326  0.18604775  1.09301708 -0.72092157  0.18604775]\n",
      "Minimize results with all initial guesses =  100: [-0.55797899  0.185993    1.09296486 -0.72097887  0.185993  ]\n",
      "Minimize results with all initial guesses = -100: [-0.55813142  0.18604381  1.09304405 -0.72095643  0.18604381]\n"
     ]
    }
   ],
   "source": [
    "# Importing optimize\n",
    "from scipy.optimize import minimize\n",
    "\n",
    "# Defining the given function to be optimized\n",
    "givenfun = lambda x: ((x[0]-x[1])**2+(x[1]+x[2]-2)**2+(x[3])**2+(x[4]-1)**2)\n",
    "\n",
    "# Defining the given constraints that the function should be optimized under\n",
    "cons = ({'type': 'eq', 'fun': lambda x: x[0] + 3*x[1]},\n",
    "        {'type': 'eq', 'fun': lambda x: x[2] + x[3] - 2*x[4]},\n",
    "        {'type': 'eq', 'fun': lambda x: x[1] - x[4]})\n",
    "bnds = ((-10, 10), (-10, 10), (-10, 10), (-10, 10), (-10, 10))\n",
    "\n",
    "# Defining the initial guesses given to the minimize functions\n",
    "# These were chosen arbitrarily and are the same for all x's for convenience\n",
    "x0a=(1, 1, 1, 1, 1)\n",
    "x0b=(-1, -1, -1, -1, -1)\n",
    "x0c=(100, 100, 100, 100, 100)\n",
    "x0d=(-100, -100, -100, -100, -100)\n",
    "\n",
    "# Plugging all of the above into the minimize functions and using SLSQP method\n",
    "resa = minimize(givenfun, x0a, method='SLSQP', bounds=bnds, constraints=cons)\n",
    "resb = minimize(givenfun, x0b, method='SLSQP', bounds=bnds, constraints=cons)\n",
    "resc = minimize(givenfun, x0c, method='SLSQP', bounds=bnds, constraints=cons)\n",
    "resd = minimize(givenfun, x0d, method='SLSQP', bounds=bnds, constraints=cons)\n",
    "\n",
    "# Printing out the minimize results using the different initial guesses\n",
    "print('Minimize results with all initial guesses =  1  :', resa.x)\n",
    "print('Minimize results with all initial guesses = -1  :', resb.x)\n",
    "print('Minimize results with all initial guesses =  100:', resc.x)\n",
    "print('Minimize results with all initial guesses = -100:', resd.x)"
   ]
  },
  {
   "cell_type": "markdown",
   "id": "dc60eaf5",
   "metadata": {},
   "source": [
    "As we can see from the results, the choice of initial guess doesn't matter\n",
    "too much, as all results were approximately the same (~0.0001 difference).\n",
    "Though the initial guesses didn't matter for optimization for the initial\n",
    "guesses that were tried, it is still possible that there are some that\n",
    "lead to different solutions as there might be more local minimums."
   ]
  }
 ],
 "metadata": {
  "kernelspec": {
   "display_name": "Python 3",
   "language": "python",
   "name": "python3"
  },
  "language_info": {
   "codemirror_mode": {
    "name": "ipython",
    "version": 3
   },
   "file_extension": ".py",
   "mimetype": "text/x-python",
   "name": "python",
   "nbconvert_exporter": "python",
   "pygments_lexer": "ipython3",
   "version": "3.8.8"
  }
 },
 "nbformat": 4,
 "nbformat_minor": 5
}
